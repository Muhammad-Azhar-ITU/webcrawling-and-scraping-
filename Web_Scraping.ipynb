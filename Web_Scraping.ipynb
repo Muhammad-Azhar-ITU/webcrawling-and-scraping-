{
 "cells": [
  {
   "cell_type": "code",
   "execution_count": 1,
   "metadata": {},
   "outputs": [],
   "source": [
    "import pandas as pd\n",
    "from bs4 import BeautifulSoup\n",
    "import requests\n",
    "import csv"
   ]
  },
  {
   "cell_type": "code",
   "execution_count": 2,
   "metadata": {},
   "outputs": [],
   "source": [
    "df_urls= pd.read_csv('output.csv')"
   ]
  },
  {
   "cell_type": "code",
   "execution_count": 3,
   "metadata": {},
   "outputs": [
    {
     "data": {
      "text/plain": [
       "Index(['link'], dtype='object')"
      ]
     },
     "execution_count": 3,
     "metadata": {},
     "output_type": "execute_result"
    }
   ],
   "source": [
    "df_urls.keys()"
   ]
  },
  {
   "cell_type": "code",
   "execution_count": null,
   "metadata": {},
   "outputs": [],
   "source": [
    "# Initialize an empty list to store the extracted data\n",
    "data = []\n",
    "\n",
    "# Loop through each URL and extract the text\n",
    "for url in df_urls['link']:\n",
    "    try:\n",
    "        res = requests.get(url)\n",
    "        res.raise_for_status() # Raise an exception if the status code is not 200 OK\n",
    "        soup = BeautifulSoup(res.content, 'html.parser')\n",
    "        text = soup.get_text()\n",
    "        data.append(text)\n",
    "    except requests.exceptions.RequestException as e:\n",
    "        print(f\"Error: {e} - Skipping URL: {url}\")\n",
    "\n",
    "# Create a pandas DataFrame from the extracted data\n",
    "df_output = pd.DataFrame({'text': data})\n",
    "\n",
    "# Write the DataFrame to a CSV file\n",
    "df_output.to_csv('extracted_data.csv', index=False)"
   ]
  }
 ],
 "metadata": {
  "kernelspec": {
   "display_name": "base",
   "language": "python",
   "name": "python3"
  },
  "language_info": {
   "codemirror_mode": {
    "name": "ipython",
    "version": 3
   },
   "file_extension": ".py",
   "mimetype": "text/x-python",
   "name": "python",
   "nbconvert_exporter": "python",
   "pygments_lexer": "ipython3",
   "version": "3.9.16"
  },
  "orig_nbformat": 4
 },
 "nbformat": 4,
 "nbformat_minor": 2
}
